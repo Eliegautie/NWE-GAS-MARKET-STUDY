{
 "cells": [
  {
   "cell_type": "markdown",
   "id": "66759555-87f2-4c55-a92c-a76887e385ec",
   "metadata": {},
   "source": [
    "## **⚠️ Risk Management**\n",
    "\n",
    "### Risk Metrics Calculation\n",
    "\n",
    "#### Step 1: Historical Portfolio Values\n",
    "\n",
    "- Track total portfolio value for each day in backtest period\n",
    "- Create time series of daily wealth\n",
    "\n",
    "#### Step 2: Daily Performance\n",
    "\n",
    "- Daily Change = Today's Portfolio Value - Yesterday's Portfolio Value\n",
    "\n",
    "#### Step 3: Key Risk Metrics\n",
    "\n",
    "**Value at Risk (95%):**\n",
    "\n",
    "- 5th percentile of daily changes\n",
    "- Maximum expected loss on 95% of days\n",
    "\n",
    "**Daily Volatility:**\n",
    "\n",
    "- Standard deviation of daily € changes\n",
    "- Measures portfolio stability\n",
    "\n",
    "**Maximum Daily Loss:**\n",
    "\n",
    "- Worst single-day loss in history\n",
    "\n",
    "**Average Daily Change:**\n",
    "\n",
    "- Typical daily performance"
   ]
  },
  {
   "cell_type": "code",
   "execution_count": null,
   "id": "1d2eb974-4ec8-479c-837a-b163b59e9e7e",
   "metadata": {},
   "outputs": [],
   "source": []
  }
 ],
 "metadata": {
  "kernelspec": {
   "display_name": "Python 3 (ipykernel)",
   "language": "python",
   "name": "python3"
  },
  "language_info": {
   "codemirror_mode": {
    "name": "ipython",
    "version": 3
   },
   "file_extension": ".py",
   "mimetype": "text/x-python",
   "name": "python",
   "nbconvert_exporter": "python",
   "pygments_lexer": "ipython3",
   "version": "3.13.5"
  }
 },
 "nbformat": 4,
 "nbformat_minor": 5
}
