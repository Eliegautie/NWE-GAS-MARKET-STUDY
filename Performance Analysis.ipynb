{
 "cells": [
  {
   "cell_type": "markdown",
   "id": "bbcd5bd6-34d3-4b19-a9a3-97467de4360e",
   "metadata": {},
   "source": [
    "## **📈 Performance Analysis**\n",
    "\n",
    "### Final Profit Calculation\n",
    "\n",
    "- Total Net Profit = (Trading Period Profit + Storage Period Profit) - €200,000\n",
    "\n",
    "## 🎯 Strategy Insights\n",
    "\n",
    "### Why Active Rebalancing Works\n",
    "\n",
    "- Captures realized profits when market conditions change\n",
    "- Adapts to evolving forward curve structure\n",
    "- Locks in better spreads as they become available\n",
    "- Manages risk through dynamic position adjustment\n",
    "\n",
    "### Key Success Factors\n",
    "\n",
    "- **Spread Capture**: Profit from price differences between injection and withdrawal months\n",
    "- **Cost Management**: Ensure spreads exceed variable costs (€0.2/MWh)\n",
    "- **Constraint Adherence**: Respect physical storage limits\n",
    "- **Active Management**: Regular rebalancing to optimize positions\n",
    "\n",
    "## 💡 Example Scenario\n",
    "\n",
    "**Rebalance on 2025-01-09:**\n",
    "\n",
    "- Old Intrinsic Value: €7,384\n",
    "- New Intrinsic Value: €0\n",
    "- Realized PnL: €12,482\n",
    "- Net Benefit: €5,098\n",
    "\n",
    "**Interpretation:** Market moved favorably, allowing profitable position closure even though the new optimal strategy was to hold no positions."
   ]
  }
 ],
 "metadata": {
  "kernelspec": {
   "display_name": "Python 3 (ipykernel)",
   "language": "python",
   "name": "python3"
  },
  "language_info": {
   "codemirror_mode": {
    "name": "ipython",
    "version": 3
   },
   "file_extension": ".py",
   "mimetype": "text/x-python",
   "name": "python",
   "nbconvert_exporter": "python",
   "pygments_lexer": "ipython3",
   "version": "3.13.5"
  }
 },
 "nbformat": 4,
 "nbformat_minor": 5
}
