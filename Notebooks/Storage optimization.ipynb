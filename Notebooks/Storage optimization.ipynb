{
 "cells": [
  {
   "cell_type": "markdown",
   "id": "24750f4d-913f-4638-8696-bc0259772b3f",
   "metadata": {},
   "source": [
    "# **GAS STORAGE OPTIMIZATION**"
   ]
  },
  {
   "cell_type": "code",
   "execution_count": 1,
   "id": "70fb6dd1-ad40-4594-9b60-2b6d417a2e70",
   "metadata": {},
   "outputs": [],
   "source": [
    "import sys\n",
    "sys.path.append(r\"C:\\Users\\Elie\\Elie code\\Function\\TTF\")\n",
    "import warnings\n",
    "warnings.filterwarnings('ignore')\n",
    "# import des fonctions\n",
    "from Storage_Optimization import StorageOptimization"
   ]
  },
  {
   "cell_type": "markdown",
   "id": "63f32d4c-343b-4bdd-a26a-6fb539540210",
   "metadata": {},
   "source": [
    "**Function import**"
   ]
  },
  {
   "cell_type": "code",
   "execution_count": 2,
   "id": "06a6250d-c281-4516-8eaa-3bc2ee6522ed",
   "metadata": {},
   "outputs": [],
   "source": [
    "StorageOptimization = StorageOptimization()"
   ]
  },
  {
   "cell_type": "markdown",
   "id": "5ed2cf6d-ac19-4547-9344-6ffda41b370f",
   "metadata": {},
   "source": [
    "**Load the df with all the forward contract price (Oct 25 -> Mars 27) since 2025**"
   ]
  },
  {
   "cell_type": "code",
   "execution_count": 3,
   "id": "05530681-0936-4b97-a1b8-c484af2f8fa2",
   "metadata": {},
   "outputs": [
    {
     "name": "stdout",
     "output_type": "stream",
     "text": [
      "Chargement des données daily depuis C:\\Users\\Elie\\Datas\\TradingView\\TTF curve...\n",
      "37 fichiers CSV trouvés\n"
     ]
    }
   ],
   "source": [
    "TTF = StorageOptimization.get_contracts_dataframe(market='TTF', contract_type='monthly')\n",
    "TTF = TTF[:-1]"
   ]
  },
  {
   "cell_type": "markdown",
   "id": "f9b0b2ea-3ea0-4159-8119-0b9fb655cffe",
   "metadata": {},
   "source": [
    "**Stores the df in the StorageOptimization for processing**"
   ]
  },
  {
   "cell_type": "code",
   "execution_count": 4,
   "id": "86d4e469-a9e8-4269-8645-f5c44c2420a4",
   "metadata": {},
   "outputs": [
    {
     "name": "stdout",
     "output_type": "stream",
     "text": [
      "=== LOADING FORWARD CURVE DATA ===\n"
     ]
    },
    {
     "data": {
      "text/plain": [
       "<Storage_Optimization.StorageOptimization at 0x28c18a852b0>"
      ]
     },
     "execution_count": 4,
     "metadata": {},
     "output_type": "execute_result"
    }
   ],
   "source": [
    "StorageOptimization.load_forward_curve_data(TTF)  "
   ]
  },
  {
   "cell_type": "markdown",
   "id": "1a623803-64fc-4b9a-8e7c-4b9da8c6eca8",
   "metadata": {},
   "source": [
    "# **STEP 1: Set storage parameters first**"
   ]
  },
  {
   "cell_type": "code",
   "execution_count": 5,
   "id": "27e65671-95ff-4b34-a2ff-362ce2e0a11d",
   "metadata": {},
   "outputs": [
    {
     "name": "stdout",
     "output_type": "stream",
     "text": [
      "=== 💰 STORAGE COST BREAKDOWN ===\n",
      "🏠 Fixed Cost: 0.0031 €/MWh/day\n",
      "⬇️  Injection Cost: 0.1 €/MWh\n",
      "⬆️  Withdrawal Cost: 0.1 €/MWh\n",
      "📊 Total Variable Cost: 0.2 €/MWh\n",
      "\n",
      "=== 🧮 COST CALCULATION FORMULA ===\n",
      "Fixed Cost per Day = fixed_cost_euros/ 365 days\n",
      "Fixed Cost per MWh = Fixed Cost per Day / Total Capacity in MWh\n",
      "175.8 GWh capacity = 175,800 MWh\n",
      "Each MWh of storage capacity costs €0.0031 per day\n"
     ]
    }
   ],
   "source": [
    "StorageOptimization.set_storage_parameters(\n",
    "    capacity_gwh=175.8,\n",
    "    max_injection_gwh_per_day=5.86,\n",
    "    max_withdrawal_gwh_per_day=5.86,\n",
    "    fixed_cost_euros=200000\n",
    ")"
   ]
  },
  {
   "cell_type": "markdown",
   "id": "c4a2fad4-11d4-4a20-a5fc-c3c79967c9e8",
   "metadata": {},
   "source": [
    "# **STEP 2: Launch the Backtest**"
   ]
  },
  {
   "cell_type": "code",
   "execution_count": 6,
   "id": "5f0cdcd9-8b11-4bf1-a0df-dab35ae94d7c",
   "metadata": {},
   "outputs": [
    {
     "name": "stdout",
     "output_type": "stream",
     "text": [
      "\n",
      "=== ROLLING INTRINSIC VALUE - WITH REAL SALES ===\n",
      "💰 COSTS: Injection=0.1€/MWh, Withdrawal=0.1€/MWh, Fixed=200,000€\n",
      "📅 PERIODS: - Trading=2025-01-01 to 2026-04-01\n",
      "             - Storage Allocation=2026-04-01 to 2027-03-31\n",
      "\n",
      "================================================================================\n",
      "📊 ROLLING INTRINSIC STRATEGY - WITH REAL SALES\n",
      "================================================================================\n",
      "\n",
      "🎯 OVERALL PERFORMANCE:\n",
      "    • Initial Value: 0 €\n",
      "    • Trading Period (2025-01-01 to 2026-04-01):\n",
      "       - Rebalances: 73\n",
      "       - Profit: 367,070 €\n",
      "    • Storage Period (2026-04-01 to 2027-03-31):\n",
      "       - Rebalances: 0\n",
      "       - Operational Profit: 0 €\n",
      "       - Fixed Cost: -200,000 €\n",
      "    • Final Intrinsic Value: 274,248 €\n",
      "    • TOTAL NET PROFIT: 167,070 €\n",
      "\n",
      "📈 REBALANCING SUMMARY:\n",
      "Date         Old Val    New Val    Realized PnL Net Benefit \n",
      "------------------------------------------------------------\n",
      "2025-01-08           0€     7,384€           0€       7,384€\n",
      "2025-01-09       7,384€         0€      12,482€       5,098€\n",
      "2025-02-12           0€    43,071€       3,516€      46,587€\n",
      "2025-02-19      86,142€    79,110€      14,064€       7,032€\n",
      "2025-02-26      79,110€   234,869€    -148,903€       6,856€\n",
      "2025-03-04     234,869€   135,718€     107,062€       7,911€\n",
      "2025-03-07     135,718€   179,316€     -41,840€       1,758€\n",
      "2025-03-11     174,921€   145,738€      38,852€       9,669€\n",
      "2025-03-12     145,738€   167,889€     -15,646€       6,505€\n",
      "2025-03-31     167,889€   107,941€      61,354€       1,406€\n",
      "2025-04-02     107,941€   104,777€      14,591€      11,427€\n",
      "2025-04-11     175,273€   171,053€       5,274€       1,055€\n",
      "2025-04-15     171,053€   171,757€      10,021€      10,724€\n",
      "2025-04-24     171,757€   183,008€      -5,801€       5,450€\n",
      "2025-05-06     229,067€   234,341€       8,790€      14,064€\n",
      "2025-05-26     237,857€   153,122€      88,603€       3,868€\n",
      "2025-05-28     153,122€   190,567€     -33,050€       4,395€\n",
      "2025-05-30     206,389€   221,508€     -13,009€       2,110€\n",
      "2025-06-02     221,508€   202,697€      22,327€       3,516€\n",
      "2025-06-24      88,779€   177,558€        -703€      88,076€\n",
      "2025-07-08     216,410€   210,608€      33,050€      27,249€\n",
      "2025-07-10     197,423€   177,382€      27,776€       7,735€\n",
      "2025-07-16     167,537€   178,261€      -6,505€       4,219€\n",
      "2025-07-23     212,894€   236,803€         352€      24,260€\n",
      "2025-08-05     244,010€   212,366€      35,336€       3,692€\n",
      "2025-08-06     212,366€   230,650€     -10,900€       7,384€\n",
      "2025-08-07     230,650€   226,958€      13,888€      10,196€\n",
      "2025-08-11     238,033€   241,198€       1,231€       4,395€\n",
      "2025-08-19     243,659€   260,887€     -12,306€       4,922€\n",
      "2025-08-21     252,800€   228,188€      28,831€       4,219€\n",
      "2025-08-26     228,188€   226,079€       6,153€       4,043€\n",
      "2025-08-27     226,079€   236,627€      -9,142€       1,406€\n",
      "2025-08-28     236,627€   258,074€     -15,822€       5,626€\n",
      "2025-09-08     257,899€   235,572€      23,557€       1,231€\n",
      "2025-09-09     235,572€   243,131€      -1,406€       6,153€\n",
      "2025-10-03     278,643€   297,981€     -17,756€       1,582€\n",
      "\n",
      "📋 COMPLETE TRADING OPERATIONS - WITH REAL SALES\n",
      "================================================================================\n",
      "\n",
      "🔄 REBALANCE 1 - 2025-01-08:\n",
      "    📊 Portfolio Value: 0€ → 7,384€\n",
      "    💰 REALIZED PnL: 0€\n",
      "    🎯 Net Benefit: 7,384€\n",
      "    🔴 POSITIONS CLOSED:\n",
      "       • No positions to close\n",
      "    🟢 NEW POSITIONS OPENED:\n",
      "       • BOUGHT 175,800 MWh of TTFNov26 (injection)\n",
      "       • SOLD 175,800 MWh of TTFJan27 (withdrawal)\n",
      "    🔄 STRATEGY: Portfolio reallocation\n",
      "    ──────────────────────────────────────────────────\n",
      "\n",
      "🔄 REBALANCE 2 - 2025-01-09:\n",
      "    📊 Portfolio Value: 7,384€ → 0€\n",
      "    💰 REALIZED PnL: 12,482€\n",
      "    🎯 Net Benefit: 5,098€\n",
      "    🔴 POSITIONS CLOSED:\n",
      "       • SOLD 175,800 MWh of TTFNov26 (injection) for -15,998€ PnL\n",
      "       • BOUGHT 175,800 MWh of TTFJan27 (withdrawal) for 28,480€ PnL\n",
      "    🟢 NEW POSITIONS OPENED:\n",
      "       • No new positions\n",
      "    💵 STRATEGY: Pure profit taking\n",
      "    ──────────────────────────────────────────────────\n",
      "\n",
      "🔄 REBALANCE 3 - 2025-02-04:\n",
      "    📊 Portfolio Value: 0€ → 703€\n",
      "    💰 REALIZED PnL: 0€\n",
      "    🎯 Net Benefit: 703€\n",
      "    🔴 POSITIONS CLOSED:\n",
      "       • No positions to close\n",
      "    🟢 NEW POSITIONS OPENED:\n",
      "       • BOUGHT 175,800 MWh of TTFAug26 (injection)\n",
      "       • SOLD 175,800 MWh of TTFSep26 (withdrawal)\n",
      "    🔄 STRATEGY: Portfolio reallocation\n",
      "    ──────────────────────────────────────────────────\n",
      "\n",
      "🔄 REBALANCE 4 - 2025-02-06:\n",
      "    📊 Portfolio Value: 703€ → 0€\n",
      "    💰 REALIZED PnL: 703€\n",
      "    🎯 Net Benefit: 0€\n",
      "    🔴 POSITIONS CLOSED:\n",
      "       • SOLD 175,800 MWh of TTFAug26 (injection) for 276,709€ PnL\n",
      "       • BOUGHT 175,800 MWh of TTFSep26 (withdrawal) for -276,006€ PnL\n",
      "    🟢 NEW POSITIONS OPENED:\n",
      "       • BOUGHT 175,800 MWh of TTFAug26 (injection)\n",
      "       • SOLD 175,800 MWh of TTFSep26 (withdrawal)\n",
      "    🏆 STRATEGY: Realized gains + portfolio rotation\n",
      "    ──────────────────────────────────────────────────\n",
      "\n",
      "🔄 REBALANCE 5 - 2025-02-12:\n",
      "    📊 Portfolio Value: 0€ → 43,071€\n",
      "    💰 REALIZED PnL: 3,516€\n",
      "    🎯 Net Benefit: 46,587€\n",
      "    🔴 POSITIONS CLOSED:\n",
      "       • SOLD 175,800 MWh of TTFAug26 (injection) for 144,859€ PnL\n",
      "       • BOUGHT 175,800 MWh of TTFSep26 (withdrawal) for -141,343€ PnL\n",
      "    🟢 NEW POSITIONS OPENED:\n",
      "       • BOUGHT 175,800 MWh of TTFAug26 (injection)\n",
      "       • SOLD 175,800 MWh of TTFOct26 (withdrawal)\n",
      "    🏆 STRATEGY: Realized gains + portfolio rotation\n",
      "    ──────────────────────────────────────────────────\n",
      "\n",
      "🔄 REBALANCE 6 - 2025-02-17:\n",
      "    📊 Portfolio Value: 43,071€ → 86,142€\n",
      "    💰 REALIZED PnL: -43,071€\n",
      "    🎯 Net Benefit: 0€\n",
      "    🔴 POSITIONS CLOSED:\n",
      "       • SOLD 175,800 MWh of TTFAug26 (injection) for -1,188,760€ PnL\n",
      "       • BOUGHT 175,800 MWh of TTFOct26 (withdrawal) for 1,145,689€ PnL\n",
      "    🟢 NEW POSITIONS OPENED:\n",
      "       • BOUGHT 175,800 MWh of TTFAug26 (injection)\n",
      "       • SOLD 175,800 MWh of TTFOct26 (withdrawal)\n",
      "    🔄 STRATEGY: Portfolio reallocation\n",
      "    ──────────────────────────────────────────────────\n",
      "\n",
      "🔄 REBALANCE 7 - 2025-02-19:\n",
      "    📊 Portfolio Value: 86,142€ → 79,110€\n",
      "    💰 REALIZED PnL: 14,064€\n",
      "    🎯 Net Benefit: 7,032€\n",
      "    🔴 POSITIONS CLOSED:\n",
      "       • SOLD 175,800 MWh of TTFAug26 (injection) for 108,117€ PnL\n",
      "       • BOUGHT 175,800 MWh of TTFOct26 (withdrawal) for -94,053€ PnL\n",
      "    🟢 NEW POSITIONS OPENED:\n",
      "       • BOUGHT 175,800 MWh of TTFAug26 (injection)\n",
      "       • SOLD 175,800 MWh of TTFJan27 (withdrawal)\n",
      "    🏆 STRATEGY: Realized gains + portfolio rotation\n",
      "    ──────────────────────────────────────────────────\n",
      "\n",
      "🔄 REBALANCE 8 - 2025-02-26:\n",
      "    📊 Portfolio Value: 79,110€ → 234,869€\n",
      "    💰 REALIZED PnL: -148,903€\n",
      "    🎯 Net Benefit: 6,856€\n",
      "    🔴 POSITIONS CLOSED:\n",
      "       • SOLD 175,800 MWh of TTFAug26 (injection) for -495,229€ PnL\n",
      "       • BOUGHT 175,800 MWh of TTFJan27 (withdrawal) for 346,326€ PnL\n",
      "    🟢 NEW POSITIONS OPENED:\n",
      "       • BOUGHT 175,800 MWh of TTFJul26 (injection)\n",
      "       • SOLD 175,800 MWh of TTFJan27 (withdrawal)\n",
      "    🔄 STRATEGY: Portfolio reallocation\n",
      "    ──────────────────────────────────────────────────\n",
      "\n",
      "🔄 REBALANCE 9 - 2025-03-04:\n",
      "    📊 Portfolio Value: 234,869€ → 135,718€\n",
      "    💰 REALIZED PnL: 107,062€\n",
      "    🎯 Net Benefit: 7,911€\n",
      "    🔴 POSITIONS CLOSED:\n",
      "       • SOLD 175,800 MWh of TTFJul26 (injection) for 23,030€ PnL\n",
      "       • BOUGHT 175,800 MWh of TTFJan27 (withdrawal) for 84,032€ PnL\n",
      "    🟢 NEW POSITIONS OPENED:\n",
      "       • BOUGHT 175,800 MWh of TTFJun26 (injection)\n",
      "       • SOLD 175,800 MWh of TTFJan27 (withdrawal)\n",
      "    🏆 STRATEGY: Realized gains + portfolio rotation\n",
      "    ──────────────────────────────────────────────────\n",
      "\n",
      "🔄 REBALANCE 10 - 2025-03-07:\n",
      "    📊 Portfolio Value: 135,718€ → 179,316€\n",
      "    💰 REALIZED PnL: -41,840€\n",
      "    🎯 Net Benefit: 1,758€\n",
      "    🔴 POSITIONS CLOSED:\n",
      "       • SOLD 175,800 MWh of TTFJun26 (injection) for -235,572€ PnL\n",
      "       • BOUGHT 175,800 MWh of TTFJan27 (withdrawal) for 193,732€ PnL\n",
      "    🟢 NEW POSITIONS OPENED:\n",
      "       • BOUGHT 175,800 MWh of TTFJul26 (injection)\n",
      "       • SOLD 175,800 MWh of TTFJan27 (withdrawal)\n",
      "    🔄 STRATEGY: Portfolio reallocation\n",
      "    ──────────────────────────────────────────────────\n",
      "\n",
      "🔴 RISK METRICS:\n",
      "    • 1-day VaR (95%): €27,056\n",
      "    • Daily Volatility: €22,296\n",
      "    • Max Daily Loss: €66,804\n",
      "    • Avg Daily Change: €1,701\n"
     ]
    }
   ],
   "source": [
    "# Appeler la fonction et récupérer tous les résultats\n",
    "results = StorageOptimization.calculate_rolling_intrinsic_value_with_costs()  "
   ]
  },
  {
   "cell_type": "markdown",
   "id": "c759c1d2-d0ab-445d-ba05-1fba29a50971",
   "metadata": {},
   "source": [
    "**A. Current Actual Performance (From Your Backtest)**"
   ]
  },
  {
   "cell_type": "markdown",
   "id": "e2bdbba7-5575-4f72-b8d5-b272db3332e4",
   "metadata": {},
   "source": [
    "from simulation:\n",
    "- Rebalancing Profit (10 months): 367,070 €\n",
    "- Number of Trades: 73\n",
    "- Fixed Cost (annual): 200,000 €\n",
    "\n",
    "Simple math:\n",
    "- Net P&L so far = 367,070 € - 200,000 €\n",
    "                 = **167,070 €**"
   ]
  },
  {
   "cell_type": "markdown",
   "id": "7b28bc07-01ea-42ff-bbc9-7372d750fb8b",
   "metadata": {},
   "source": [
    "**C. Projection to Full Year**"
   ]
  },
  {
   "cell_type": "markdown",
   "id": "5ee6fc1d-9bf0-41c8-be42-3e587d2fe27d",
   "metadata": {},
   "source": [
    "If we continue at same pace for 4 more months (until Mars 26) :\n",
    "\n",
    "- Additional profit = 367,070 € × (2/14) = 52 438,5 €\n",
    "- Total annual profit = 367,070 € + 52 438,5 € = 419 508,5 €\n",
    "- Annual net P&L = 419 508,5 € - €200,000 € = **219 508,5 €**"
   ]
  }
 ],
 "metadata": {
  "kernelspec": {
   "display_name": "Python 3 (ipykernel)",
   "language": "python",
   "name": "python3"
  },
  "language_info": {
   "codemirror_mode": {
    "name": "ipython",
    "version": 3
   },
   "file_extension": ".py",
   "mimetype": "text/x-python",
   "name": "python",
   "nbconvert_exporter": "python",
   "pygments_lexer": "ipython3",
   "version": "3.13.5"
  }
 },
 "nbformat": 4,
 "nbformat_minor": 5
}
