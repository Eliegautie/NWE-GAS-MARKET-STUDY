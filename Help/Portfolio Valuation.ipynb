{
 "cells": [
  {
   "cell_type": "markdown",
   "id": "ce2f11e3-4ee4-427d-a255-96f9319cd147",
   "metadata": {},
   "source": [
    "## 💰 Portfolio Valuation\n",
    "\n",
    "### Daily Components\n",
    "\n",
    "- **Intrinsic value**: Intrinsic value of the storage\n",
    "- Injection: `(Current Price - Purchase Price) × Volume`\n",
    "- Withdrawal: `(Sale Price - Current Price) × Volume`\n",
    "\n",
    "- **Total PnL**: Accumulated cash from all realized trades\n",
    "\n",
    "### Total Portfolio Value\n",
    "\n",
    "- Portfolio Value = Intrinsic value + Total PnL"
   ]
  }
 ],
 "metadata": {
  "kernelspec": {
   "display_name": "Python 3 (ipykernel)",
   "language": "python",
   "name": "python3"
  },
  "language_info": {
   "codemirror_mode": {
    "name": "ipython",
    "version": 3
   },
   "file_extension": ".py",
   "mimetype": "text/x-python",
   "name": "python",
   "nbconvert_exporter": "python",
   "pygments_lexer": "ipython3",
   "version": "3.13.5"
  }
 },
 "nbformat": 4,
 "nbformat_minor": 5
}
