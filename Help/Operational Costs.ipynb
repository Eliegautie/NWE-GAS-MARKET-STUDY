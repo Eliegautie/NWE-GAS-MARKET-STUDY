{
 "cells": [
  {
   "cell_type": "markdown",
   "id": "a7ab95fc-d30e-47f2-a8dd-0e25843eb91e",
   "metadata": {},
   "source": [
    "# **When do we pay operational costs?** \n",
    "\n",
    "**At position opening:**\n",
    "\n",
    "- Injection/withdrawal costs are subtracted during the initial optimization\n",
    "\n",
    "- Required spread = (Withdrawal price - Injection price) > (Injection cost + Withdrawal cost)\n",
    "\n",
    "- If spread is insufficient → No position\n",
    "\n",
    "**At unwind/closing:**\n",
    "\n",
    "- Only use GROSS prices — no re-subtraction of costs\n",
    "\n",
    "- PnL = (Current price - Locked price) × Volume\n",
    "\n",
    "- The costs were already accounted for in the initial spread"
   ]
  },
  {
   "cell_type": "markdown",
   "id": "8c57e09f-4b94-431c-95db-3b28ce64e4f7",
   "metadata": {},
   "source": [
    "# **Economic logic:**\n",
    "\n",
    "**Concrete example:**\n",
    "\n",
    "- Opening: Buy Jun26 @ €30, Sell Jan27 @ €40\n",
    "\n",
    "- Costs: €0.1 injection + €0.1 withdrawal = €0.2/MWh\n",
    "\n",
    "- Net locked spread = (40 - 30) - 0.2 = €9.8/MWh ← Costs already deducted\n",
    "\n",
    "- Unwind: Jun26 @ €32, Jan27 @ €39\n",
    "\n",
    "- PnL = (32 - 30) + (40 - 39) = €3/MWh ← Gross prices only\n",
    "\n",
    "**The costs are paid only once — at future physical execution, but for paper trading they are included in the required spread.**"
   ]
  }
 ],
 "metadata": {
  "kernelspec": {
   "display_name": "Python 3 (ipykernel)",
   "language": "python",
   "name": "python3"
  },
  "language_info": {
   "codemirror_mode": {
    "name": "ipython",
    "version": 3
   },
   "file_extension": ".py",
   "mimetype": "text/x-python",
   "name": "python",
   "nbconvert_exporter": "python",
   "pygments_lexer": "ipython3",
   "version": "3.13.5"
  }
 },
 "nbformat": 4,
 "nbformat_minor": 5
}
