{
 "cells": [
  {
   "cell_type": "markdown",
   "id": "51fce611-3e5f-4fad-a910-b6be03ddb123",
   "metadata": {},
   "source": [
    "## **📊 Storage Parameters & Costs**\n",
    "\n",
    "### Physical Constraints\n",
    "- **Total Capacity**: 175.8 GWh (175,800 MWh)\n",
    "- **Daily Injection Limit**: 5.86 GWh\n",
    "- **Daily Withdrawal Limit**: 5.86 GWh\n",
    "\n",
    "### Cost Structure\n",
    "- **Fixed Costs**: €200,000 per year (applied once at the end)\n",
    "- **Variable Injection Cost**: €0.1 per MWh\n",
    "- **Variable Withdrawal Cost**: €0.1 per MWh\n",
    "\n",
    "## 🔄 Core Strategy: Rolling Intrinsic Value\n",
    "\n",
    "### Intrinsic Value Calculation\n",
    "- The optimizer finds the optimal injection/withdrawal schedule:\n",
    "- **Gross Intrinsic** = (Withdrawal Volume × Withdrawal Price) - (Injection Volume × Injection Price)\n",
    "- **Net Intrinsic** = Gross Intrinsic - Variable Costs\n",
    "- **Variable Costs** = (Injection Volume × €0.1) + (Withdrawal Volume × €0.1)"
   ]
  }
 ],
 "metadata": {
  "kernelspec": {
   "display_name": "Python 3 (ipykernel)",
   "language": "python",
   "name": "python3"
  },
  "language_info": {
   "codemirror_mode": {
    "name": "ipython",
    "version": 3
   },
   "file_extension": ".py",
   "mimetype": "text/x-python",
   "name": "python",
   "nbconvert_exporter": "python",
   "pygments_lexer": "ipython3",
   "version": "3.13.5"
  }
 },
 "nbformat": 4,
 "nbformat_minor": 5
}
