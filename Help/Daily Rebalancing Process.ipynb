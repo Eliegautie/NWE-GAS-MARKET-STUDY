{
 "cells": [
  {
   "cell_type": "markdown",
   "id": "47d7a0d0-11ba-40c7-97f6-3e41ecbb7a76",
   "metadata": {},
   "source": [
    "## **Daily Rebalancing Process**\n",
    "\n",
    "#### Step 1: Evaluate Current Market\n",
    "- Get current forward curve prices for all contracts\n",
    "- Calculate new optimal positions\n",
    "\n",
    "#### Step 2: Calculate Realized PnL (Close Positions)\n",
    "For existing positions:\n",
    "- **Injection Positions**: `(Current Price - Purchase Price) × Volume`\n",
    "- **Withdrawal Positions**: `(Sale Price - Current Price) × Volume`\n",
    "\n",
    "#### Step 3: Calculate Net Benefit"
   ]
  },
  {
   "cell_type": "markdown",
   "id": "29b53efd-024d-4669-9026-d6f5ec0852bd",
   "metadata": {},
   "source": [
    "- **Net Benefit** = (New Intrinsic Value - Old Intrinsic Value) + Realized PnL"
   ]
  },
  {
   "cell_type": "markdown",
   "id": "ea2a2234-29ca-4b36-a9d7-414b428011e8",
   "metadata": {},
   "source": [
    "#### Step 4: Rebalance Decision\n",
    "If `Net Benefit > 0`:\n",
    "1. Close all existing positions (realize PnL)\n",
    "2. Open new optimal positions\n",
    "3. Update locked prices to current market prices"
   ]
  }
 ],
 "metadata": {
  "kernelspec": {
   "display_name": "Python 3 (ipykernel)",
   "language": "python",
   "name": "python3"
  },
  "language_info": {
   "codemirror_mode": {
    "name": "ipython",
    "version": 3
   },
   "file_extension": ".py",
   "mimetype": "text/x-python",
   "name": "python",
   "nbconvert_exporter": "python",
   "pygments_lexer": "ipython3",
   "version": "3.13.5"
  }
 },
 "nbformat": 4,
 "nbformat_minor": 5
}
